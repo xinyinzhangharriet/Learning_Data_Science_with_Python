{
 "cells": [
  {
   "cell_type": "markdown",
   "metadata": {},
   "source": [
    "## 股票策略分析"
   ]
  },
  {
   "cell_type": "markdown",
   "metadata": {},
   "source": [
    "### 作业要求：\n",
    "\n",
    "##### 所有回测场景下，设定初始资金100万，交易手续费万分之二\n",
    "\n",
    "##### Task1（15分）：补全给出的基于元编程的回测系统的元类代码（metabase.py文件中）——只有补全了才能正常使用回测系统\n",
    "\n",
    "\n",
    "- 补全`findbases`函数（5分）：实现寻找类的所有基（父）类，包括间接的基类——递归实现\n",
    "\n",
    "- 出题的思路：让同学了解python中继承关系的遍历方式与实际继承情况\n",
    "\n",
    "- 补全`findowner`函数（5分）：在堆栈帧中查找拥有特定类实例的对象\n",
    "\n",
    "- 出题的思路：让同学了解python中实例化关系的储存模式——栈的理解\n",
    "\n",
    "- 补全`AutoInfoClass**类中的``_derive`函数（5分）：实现了类型对象间信息的传递\n",
    "\n",
    "- 出题的思路：让同学了解Python中对象性质的解构方式\n",
    "\n",
    "- 额外任务（有助于理解回测架构）：描述数据进入回测系统后在各组件间的传递情况（最多加5分，加到满分为止）\n",
    "\n",
    "##### Task2（25分）：在给定的股票数据下，将以下两种策略结合起来实现一个综合性的策略，用量化回测系统进行回测，呈现结果\n",
    "\n",
    "- 这部分只要能设计出策略实现盈利就可以得到15分，只要能够使用回测系统呈现基本指标：如年化回报、波动率、夏普比例等就可以得到5分，最后能够绘制出图像就可以得到最后5分\n",
    "\n",
    "- （如果使用pyfolio库，因为其中有若干bug，需要手动修复）https://blog.csdn.net/Yangxh2004/article/details/121451734\n",
    "\n",
    "- 股票策略（推荐参考《151 trading strategies》）\n",
    "\n",
    "- 动量策略：是分析过去一段时间中，多个股票上的收益率，做多收益率最高的一组；做空收益率最低的一组，首先，计算过去60个交易日股票的累计收益率，根据累计收益率的高低，把股票分为10组，做多收益率高的一组，做空收益率低的一组。资金在各个股票之间等权重分配。\n",
    "  \n",
    "- 均线策略：我们使用全市场的A股日数据进行测试，只做多头。首先，在当前交易日，分析一下，有多少个股票的均线已经存在，然后把资金平分成多少份；当前一个收盘价小于均线，这个收盘价大于均线的时候，做多这支股票，根据资金，计算出应该买的股票数目；当前一个收盘价大于均线，当前的收盘价小于均线的时候，平仓这支股票。\n",
    "\n",
    "##### Task3（30分）：股票数据的预处理与股票的聚类：请参考以下链接中的基本框架进行优化  \n",
    "https://github.com/areed1192/sigma_coding_youtube/blob/master/python/python-data-science/machine-learning/k-means/Clustering%20Stocks%20-%20KMeans.ipynb\n",
    "\n",
    "- 读取数据、清洗数据（5分）：从stock中读取股票的行情和基本面数据、处理各支股票中的缺失值和异常值\n",
    "- 特征提取：使用以下几类方法对时间序列数据特征提取\n",
    "\n",
    "- 基本统计特征：均值、中位数、方差、极值、峰度和偏度（5分）\n",
    "- 时域特征：差分、移动均值、滞后特征（5分）https://zhuanlan.zhihu.com/p/398752292\n",
    "- 频域特征：傅里叶变换或小波变换提取频域信息（5分）https://www.zhihu.com/question/24021704/answer/2245867156\n",
    "- 深度学习特征提取：利用预训练的模型进行特征提取（如基于BERT等预训练模型）——选做（加分最多5分，加到满分为止）——https://zhuanlan.zhihu.com/p/686888794\n",
    "\n",
    "- 特征融合：归一化数据，需要将不同的特征向量组合成一个整体特征向量，并使用PCA方法降维（可设置设置累积方差贡献率阈值确定留下多少主成分）（5分）\n",
    "- 股票聚类：使用K-means进行股票聚类。肘部法确定最佳簇数量——输出每个簇的代表股票、簇中股票的数量、年化回报分布等，也可对结果进行可视化展示。（5分）\n",
    "\n",
    "\n",
    "##### Task4（30分）：基于以上提取出的股票特征、聚类信息和使用过的传统策略，设计股票策略并评估结果\n",
    "\n",
    "- 按照时间先后划分测试和训练集，测试集在前训练集在后，训练集:测试集=7:3\n",
    "- 设计策略，将聚类信息与均线、动量策略结合，指导股票的分组处理（10分）\n",
    "- 在已知数据集对策略进行训练和调优\n",
    "- 将策略应用于未知数据集，并评估绩效（20分）\n",
    "  ——最低要求是不比Task2中的策略的绩效差，具体得分会按照选择此作业的同学的分布情况给出，同学的绩效分布会进行在群里公开\n",
    "\n",
    "- 传统金融指标：年化回报率、年化波动率\n",
    "- 投资效用：计算效用函数，值越高越好\n",
    "\n",
    "对于第i个有交易的天数，定义：$p_{i}=\\sum_{j}weight_{ij}*resp_{ij} , \\ t=\\frac{\\sum p_{i}}{\\sqrt{ \\sum p_{i}^{2} }}\\sqrt{ \\frac{T}{\\lvert i \\rvert } }$\n",
    "\n",
    "其中，$weight_{ij}$是该天编号为j的一笔交易的量占当天总交易量的比重，$resp_{ij}$是这笔交易的回报率，T是测试集的总天数，$\\lvert i \\rvert$是有交易的总天数\n",
    "\n",
    "则效用函数定义:$u=min(max(t,0),6)\\sum p_{i}$\n",
    "\n",
    "使用该指标进行评估的参考比赛：https://www.kaggle.com/competitions/jane-street-market-prediction\n"
   ]
  },
  {
   "cell_type": "code",
   "execution_count": null,
   "metadata": {},
   "outputs": [],
   "source": [
    "# Task 1 补全./backtesting/metabase.py中的三个函数"
   ]
  },
  {
   "cell_type": "code",
   "execution_count": null,
   "metadata": {},
   "outputs": [],
   "source": [
    "# Task2 在给定的股票数据下，将以下两种策略结合起来实现一个综合性的策略，用量化回测系统进行回测，呈现结果\n"
   ]
  },
  {
   "cell_type": "code",
   "execution_count": null,
   "metadata": {},
   "outputs": [],
   "source": [
    "# Task3 股票数据的预处理与股票的聚类"
   ]
  },
  {
   "cell_type": "code",
   "execution_count": null,
   "metadata": {},
   "outputs": [],
   "source": [
    "# Task4 基于以上提取出的股票特征、聚类信息和使用过的传统策略，设计股票策略并评估结果"
   ]
  }
 ],
 "metadata": {
  "kernelspec": {
   "display_name": "Python 3",
   "language": "python",
   "name": "python3"
  },
  "language_info": {
   "codemirror_mode": {
    "name": "ipython",
    "version": 3
   },
   "file_extension": ".py",
   "mimetype": "text/x-python",
   "name": "python",
   "nbconvert_exporter": "python",
   "pygments_lexer": "ipython3",
   "version": "3.12.2"
  }
 },
 "nbformat": 4,
 "nbformat_minor": 2
}
