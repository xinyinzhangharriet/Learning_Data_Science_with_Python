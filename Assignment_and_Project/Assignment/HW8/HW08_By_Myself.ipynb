{
 "cells": [
  {
   "cell_type": "markdown",
   "metadata": {},
   "source": [
    "# 第八次课-课后练习"
   ]
  },
  {
   "cell_type": "markdown",
   "metadata": {},
   "source": [
    "本次作业是课后练习，供大家熟练课堂上讲授的基础知识点，不计入任何分数。\n",
    "\n",
    "请将作业命名为 HW08-课后练习+姓名+学号.ipynb</span>"
   ]
  },
  {
   "cell_type": "code",
   "execution_count": 1,
   "metadata": {},
   "outputs": [],
   "source": [
    "import pandas as pd\n",
    "import numpy as np"
   ]
  },
  {
   "cell_type": "markdown",
   "metadata": {},
   "source": [
    "## 一、`pandas.Series`基础用法"
   ]
  },
  {
   "cell_type": "markdown",
   "metadata": {},
   "source": [
    "本部分**无需填写代码**，阅读并理解运行结果即可。`pandas.Series`与`numpy.array`和Python内置的列表、字典等，在元素访问和运算操作上都有细微区别，因此本部分中提出的一些特殊情况需要格外注意"
   ]
  },
  {
   "cell_type": "markdown",
   "metadata": {},
   "source": [
    "### 1.1 `Series`的创建"
   ]
  },
  {
   "cell_type": "markdown",
   "metadata": {},
   "source": [
    "阅读并运行下面代码，观察输出，理解各个参数取不同类型和值时，创建`pd.Series`的表现"
   ]
  },
  {
   "cell_type": "code",
   "execution_count": 2,
   "metadata": {},
   "outputs": [
    {
     "data": {
      "text/plain": [
       "0    1\n",
       "1    2\n",
       "2    3\n",
       "3    4\n",
       "dtype: int64"
      ]
     },
     "metadata": {},
     "output_type": "display_data"
    },
    {
     "data": {
      "text/plain": [
       "RangeIndex(start=0, stop=4, step=1)"
      ]
     },
     "metadata": {},
     "output_type": "display_data"
    }
   ],
   "source": [
    "# Creating a Series with default index\n",
    "data_list = [1, 2, 3, 4]\n",
    "series_default = pd.Series(data_list)\n",
    "display(series_default)\n",
    "display(series_default.index)"
   ]
  },
  {
   "cell_type": "code",
   "execution_count": 3,
   "metadata": {},
   "outputs": [
    {
     "data": {
      "text/plain": [
       "a    1\n",
       "b    2\n",
       "c    3\n",
       "d    4\n",
       "dtype: int64"
      ]
     },
     "metadata": {},
     "output_type": "display_data"
    },
    {
     "data": {
      "text/plain": [
       "Index(['a', 'b', 'c', 'd'], dtype='object')"
      ]
     },
     "metadata": {},
     "output_type": "display_data"
    }
   ],
   "source": [
    "# Creating a Series with custom index\n",
    "data_list = [1, 2, 3, 4]\n",
    "custom_index = ['a', 'b', 'c', 'd']\n",
    "series_custom_index = pd.Series(data_list, index=custom_index)\n",
    "display(series_custom_index)\n",
    "display(series_custom_index.index)"
   ]
  },
  {
   "cell_type": "code",
   "execution_count": 4,
   "metadata": {},
   "outputs": [
    {
     "data": {
      "text/plain": [
       "0    1.0\n",
       "1    NaN\n",
       "2    NaN\n",
       "3    4.0\n",
       "dtype: float64"
      ]
     },
     "metadata": {},
     "output_type": "display_data"
    }
   ],
   "source": [
    "# Creating a Series with NaN or None values\n",
    "# Note that the dtype of the Series has changed to float64\n",
    "data_with_nan = [1, np.nan, None, 4]\n",
    "series_with_nan = pd.Series(data_with_nan)\n",
    "display(series_with_nan)\n"
   ]
  },
  {
   "cell_type": "code",
   "execution_count": 5,
   "metadata": {},
   "outputs": [
    {
     "data": {
      "text/plain": [
       "a    1.0\n",
       "b    2.0\n",
       "x    NaN\n",
       "y    NaN\n",
       "dtype: float64"
      ]
     },
     "metadata": {},
     "output_type": "display_data"
    }
   ],
   "source": [
    "# Use a dictionary as input data\n",
    "data_dict = {'a': 1, 'b': 2, 'c': 3, 'd': 4}\n",
    "\n",
    "# Creating a Series with specified index and data type\n",
    "# Elements of the index that are not in the dictionary are set to NaN\n",
    "series_from_dict = pd.Series(\n",
    "    data=data_dict, \n",
    "    index=['a', 'b', 'x', 'y'],\n",
    "    # Even if we explicitly set dtype to int, \n",
    "    # it is still changed to float64\n",
    "    dtype=int\n",
    ")\n",
    "\n",
    "display(series_from_dict)"
   ]
  },
  {
   "cell_type": "markdown",
   "metadata": {},
   "source": [
    "### 1.2 `Series`的元素访问"
   ]
  },
  {
   "cell_type": "markdown",
   "metadata": {},
   "source": [
    "#### 1.2.1 使用`[]`直接访问"
   ]
  },
  {
   "cell_type": "markdown",
   "metadata": {},
   "source": [
    "阅读并运行以下代码，理解访问`Series`元素的不同方式\n",
    "- 由于使用`[]`直接访问会有一定混淆性，`pandas`已经表明计划移除position-based access的用法，因此如果你的`pandas`版本较高，以下代码可能会报出Warning"
   ]
  },
  {
   "cell_type": "code",
   "execution_count": 6,
   "metadata": {},
   "outputs": [
    {
     "data": {
      "text/plain": [
       "'Access by position:'"
      ]
     },
     "metadata": {},
     "output_type": "display_data"
    },
    {
     "data": {
      "text/plain": [
       "0"
      ]
     },
     "metadata": {},
     "output_type": "display_data"
    },
    {
     "data": {
      "text/plain": [
       "'Access by label:'"
      ]
     },
     "metadata": {},
     "output_type": "display_data"
    },
    {
     "data": {
      "text/plain": [
       "0"
      ]
     },
     "metadata": {},
     "output_type": "display_data"
    },
    {
     "name": "stdout",
     "output_type": "stream",
     "text": [
      "Access with a position list:\n"
     ]
    },
    {
     "data": {
      "text/plain": [
       "a      0\n",
       "aaa    2\n",
       "dtype: int64"
      ]
     },
     "metadata": {},
     "output_type": "display_data"
    },
    {
     "name": "stdout",
     "output_type": "stream",
     "text": [
      "Access with a label list:\n"
     ]
    },
    {
     "data": {
      "text/plain": [
       "a    0\n",
       "dtype: int64"
      ]
     },
     "metadata": {},
     "output_type": "display_data"
    },
    {
     "data": {
      "text/plain": [
       "'Cannot access elements using a mixture of positions and labels.\\n'"
      ]
     },
     "metadata": {},
     "output_type": "display_data"
    },
    {
     "name": "stdout",
     "output_type": "stream",
     "text": [
      "Access with a position slice:\n"
     ]
    },
    {
     "data": {
      "text/plain": [
       "a      0\n",
       "bcd    1\n",
       "aaa    2\n",
       "dtype: int64"
      ]
     },
     "metadata": {},
     "output_type": "display_data"
    },
    {
     "name": "stdout",
     "output_type": "stream",
     "text": [
      "Access with a label slice:\n"
     ]
    },
    {
     "data": {
      "text/plain": [
       "a      0\n",
       "bcd    1\n",
       "aaa    2\n",
       "dtype: int64"
      ]
     },
     "metadata": {},
     "output_type": "display_data"
    },
    {
     "name": "stdout",
     "output_type": "stream",
     "text": [
      "Access by condition\n"
     ]
    },
    {
     "data": {
      "text/plain": [
       "aaa    2\n",
       "ddd    3\n",
       "dtype: int64"
      ]
     },
     "metadata": {},
     "output_type": "display_data"
    }
   ],
   "source": [
    "data_dict = {'a': 0, 'bcd': 1, 'aaa': 2, 'ddd': 3}\n",
    "series = pd.Series(data_dict)\n",
    "\n",
    "display(\"Access by position:\", series.iloc[0])   # Outputs an int\n",
    "display(\"Access by label:\", series['a'])    # Outputs an int\n",
    "\n",
    "print(\"Access with a position list:\")      # Outputs a Series\n",
    "display(series.iloc[[0, 2]])\n",
    "print(\"Access with a label list:\")\n",
    "display(series[['a']])\n",
    "\n",
    "try:\n",
    "    display(series[[0, 'ddd']])\n",
    "except:\n",
    "    display(\"Cannot access elements using a mixture of positions and labels.\\n\")\n",
    "\n",
    "print(\"Access with a position slice:\")\n",
    "display(series[0:3])\n",
    "print(\"Access with a label slice:\")\n",
    "display(series['a': 'aaa'])\n",
    "# Note that [0:3] does not include 3, \n",
    "# but ['a':'aaa'] includes 'aaa'\n",
    "\n",
    "print(\"Access by condition\")\n",
    "display(series[series >= 2])"
   ]
  },
  {
   "cell_type": "markdown",
   "metadata": {},
   "source": [
    "#### 1.2.2 使用`loc`和`iloc`"
   ]
  },
  {
   "cell_type": "markdown",
   "metadata": {},
   "source": [
    "因为使用`[]`时，通过位置索引和标签索引都能访问`Series`中的元素，当标签也为数字时，直接使用`[]`会引起混淆，因此在操作`pandas`中的数据结构时，通常都会指定`loc`和`iloc`来明确说明是通过标签还是位置索引访问元素\n",
    "- 注意`loc`和`iloc`后面跟的是方括号"
   ]
  },
  {
   "cell_type": "code",
   "execution_count": 7,
   "metadata": {},
   "outputs": [
    {
     "data": {
      "text/plain": [
       "1"
      ]
     },
     "metadata": {},
     "output_type": "display_data"
    },
    {
     "data": {
      "text/plain": [
       "2    2\n",
       "dtype: int64"
      ]
     },
     "metadata": {},
     "output_type": "display_data"
    },
    {
     "data": {
      "text/plain": [
       "1"
      ]
     },
     "metadata": {},
     "output_type": "display_data"
    },
    {
     "data": {
      "text/plain": [
       "1    1\n",
       "2    2\n",
       "dtype: int64"
      ]
     },
     "metadata": {},
     "output_type": "display_data"
    },
    {
     "data": {
      "text/plain": [
       "2"
      ]
     },
     "metadata": {},
     "output_type": "display_data"
    },
    {
     "data": {
      "text/plain": [
       "2    2\n",
       "dtype: int64"
      ]
     },
     "metadata": {},
     "output_type": "display_data"
    }
   ],
   "source": [
    "series = pd.Series(data=[1, 2], index=[1, 2])\n",
    "\n",
    "# [] can cause confusion\n",
    "display(series[1])          # label-based access\n",
    "display(series[1:])         # position-based access (in older version)\n",
    "                            # may be treated as label-based access in newer version\n",
    "\n",
    "display(series.loc[1])      # label-based access\n",
    "display(series.loc[1:])     # label-based access\n",
    "\n",
    "display(series.iloc[1])     # position-based access\n",
    "display(series.iloc[1:])    # position-based access"
   ]
  },
  {
   "cell_type": "markdown",
   "metadata": {},
   "source": [
    "#### 1.2.3 `pd.Series`与Python字典的对比"
   ]
  },
  {
   "cell_type": "markdown",
   "metadata": {},
   "source": [
    "- 允许重复的`index`，但字典不允许重复的`key`\n",
    "- 重写了`__iter__`方法，`iter(pd.Series)`会得到**值**的迭代器，但`iter(dict)`会得到**键**的迭代器\n",
    "- 但是计算`xxx in yyy`的时候，二者判断的都是`xxx`是否在**键/标签**之中，与值无关\n"
   ]
  },
  {
   "cell_type": "code",
   "execution_count": 8,
   "metadata": {},
   "outputs": [
    {
     "name": "stdout",
     "output_type": "stream",
     "text": [
      "{1: 'a', 2: 'b', 3: 'd'}\n"
     ]
    },
    {
     "data": {
      "text/plain": [
       "1    a\n",
       "2    b\n",
       "3    c\n",
       "3    d\n",
       "dtype: object"
      ]
     },
     "metadata": {},
     "output_type": "display_data"
    },
    {
     "data": {
      "text/plain": [
       "3    c\n",
       "3    d\n",
       "dtype: object"
      ]
     },
     "metadata": {},
     "output_type": "display_data"
    },
    {
     "name": "stdout",
     "output_type": "stream",
     "text": [
      "[1, 2, 3]\n"
     ]
    },
    {
     "data": {
      "text/plain": [
       "['a', 'b', 'c', 'd']"
      ]
     },
     "metadata": {},
     "output_type": "display_data"
    },
    {
     "name": "stdout",
     "output_type": "stream",
     "text": [
      "True False\n",
      "True False\n"
     ]
    }
   ],
   "source": [
    "index = [1, 2, 3, 3]\n",
    "data = ['a', 'b', 'c', 'd']\n",
    "\n",
    "data_dict = dict(zip(index, data))\n",
    "series = pd.Series(data, index)\n",
    "\n",
    "print(data_dict)        # 3 elements\n",
    "display(series)         # 4 elements\n",
    "display(series.loc[3])\n",
    "\n",
    "print(list(data_dict))      # output keys\n",
    "display(list(series))       # output values\n",
    "\n",
    "print(1 in data_dict, 'a' in data_dict)\n",
    "print(1 in series, 'a' in series)"
   ]
  },
  {
   "cell_type": "markdown",
   "metadata": {},
   "source": [
    "### 1.3 `Series`的运算"
   ]
  },
  {
   "cell_type": "markdown",
   "metadata": {},
   "source": [
    "与`numpy.array`类似，`Series`也可以与Python数字类型或另一个`Series`进行运算，但与`numpy.array`不同的是，即使两个`Series`的长度不同或标签不对应，依然能进行运算"
   ]
  },
  {
   "cell_type": "code",
   "execution_count": 9,
   "metadata": {},
   "outputs": [
    {
     "data": {
      "text/plain": [
       "a    NaN\n",
       "b    2.0\n",
       "c    NaN\n",
       "e    NaN\n",
       "dtype: float64"
      ]
     },
     "metadata": {},
     "output_type": "display_data"
    },
    {
     "data": {
      "text/plain": [
       "a    NaN\n",
       "b    2.0\n",
       "c    NaN\n",
       "e    NaN\n",
       "dtype: float64"
      ]
     },
     "metadata": {},
     "output_type": "display_data"
    },
    {
     "data": {
      "text/plain": [
       "a    1.0\n",
       "b    2.0\n",
       "c    1.0\n",
       "e    NaN\n",
       "dtype: float64"
      ]
     },
     "metadata": {},
     "output_type": "display_data"
    }
   ],
   "source": [
    "a = pd.Series([1, 1], index=['b', 'c'])\n",
    "b = pd.Series([1, 1, np.nan], index=['a', 'b', 'e'])\n",
    "\n",
    "# Default: the result will contain the union of indices from both Series \n",
    "# Missing values will be represented as NaN where indices are not shared\n",
    "display(a + b)  \n",
    "display(a.add(b))   # Equivalent to a+b\n",
    "\n",
    "# Use the fill_value parameter in the operation function to handle NaN\n",
    "# For detailed usage information, refer to the official documentation\n",
    "# https://pandas.pydata.org/docs/reference/api/pandas.Series.add.html\n",
    "display(a.add(b, fill_value=0))"
   ]
  },
  {
   "cell_type": "markdown",
   "metadata": {},
   "source": [
    "标签有重复时，会为每一对对应标签分别进行运算"
   ]
  },
  {
   "cell_type": "code",
   "execution_count": 10,
   "metadata": {},
   "outputs": [
    {
     "data": {
      "text/plain": [
       "b    1.0+6.0j\n",
       "b    2.0+6.0j\n",
       "b    3.0+6.0j\n",
       "c    4.0+5.0j\n",
       "c    4.0+4.0j\n",
       "c    5.0+5.0j\n",
       "c    5.0+4.0j\n",
       "d    6.0+3.0j\n",
       "d    6.0+2.0j\n",
       "d    6.0+1.0j\n",
       "dtype: complex128"
      ]
     },
     "metadata": {},
     "output_type": "display_data"
    }
   ],
   "source": [
    "a = pd.Series([1, 2, 3, 4, 5, 6], index=['b', 'b', 'b', 'c', 'c', 'd'])\n",
    "# We make elements in b complex for clearer illustration\n",
    "b = pd.Series([6, 5, 4, 3, 2, 1], index=['b', 'c', 'c', 'd', 'd', 'd']) * 1j\n",
    "\n",
    "display(a + b)"
   ]
  },
  {
   "cell_type": "markdown",
   "metadata": {},
   "source": [
    "## 二、`pandas.DataFrame`基础用法"
   ]
  },
  {
   "cell_type": "markdown",
   "metadata": {},
   "source": [
    "本部分已经提供了参考输出，你的代码运行结果需要与之相同\n",
    "\n",
    "对于不确定用法的函数/方法，可以参考`pandas`的[官方文档](https://pandas.pydata.org/docs/reference/frame.html)"
   ]
  },
  {
   "cell_type": "code",
   "execution_count": 11,
   "metadata": {},
   "outputs": [],
   "source": [
    "data = {\n",
    "   'name': ['Alice', 'Bob', 'Carol', 'Dave', 'Eve', 'Francis', 'Grace', 'Hans', 'Isabella', 'Jason', 'Kate', 'Louis'], \n",
    "   'age': [24, 38, 43, 24, 33, 42, 57, 57, 36, 13, 53, 39], \n",
    "   'gender': ['F', 'M', 'F', 'M', 'F', 'M', 'F', 'M', 'F', 'M', 'F', 'M'], \n",
    "   'height(cm)': [168, 157, 164, 190, 165, 181, 176, 197, 170, 144, 164, 175], \n",
    "   'weight(kg)': [53, 76, 59, 68, 60, 89, 70, 90, 67, 38, 68, 59]\n",
    "}"
   ]
  },
  {
   "cell_type": "markdown",
   "metadata": {},
   "source": [
    "### 2.1 由`data`生成一个`DataFrame`，命名为`df`，其行索引从1开始递增"
   ]
  },
  {
   "cell_type": "code",
   "execution_count": 12,
   "metadata": {},
   "outputs": [
    {
     "data": {
      "text/html": [
       "<div>\n",
       "<style scoped>\n",
       "    .dataframe tbody tr th:only-of-type {\n",
       "        vertical-align: middle;\n",
       "    }\n",
       "\n",
       "    .dataframe tbody tr th {\n",
       "        vertical-align: top;\n",
       "    }\n",
       "\n",
       "    .dataframe thead th {\n",
       "        text-align: right;\n",
       "    }\n",
       "</style>\n",
       "<table border=\"1\" class=\"dataframe\">\n",
       "  <thead>\n",
       "    <tr style=\"text-align: right;\">\n",
       "      <th></th>\n",
       "      <th>name</th>\n",
       "      <th>age</th>\n",
       "      <th>gender</th>\n",
       "      <th>height(cm)</th>\n",
       "      <th>weight(kg)</th>\n",
       "    </tr>\n",
       "  </thead>\n",
       "  <tbody>\n",
       "    <tr>\n",
       "      <th>1</th>\n",
       "      <td>Alice</td>\n",
       "      <td>24</td>\n",
       "      <td>F</td>\n",
       "      <td>168</td>\n",
       "      <td>53</td>\n",
       "    </tr>\n",
       "    <tr>\n",
       "      <th>2</th>\n",
       "      <td>Bob</td>\n",
       "      <td>38</td>\n",
       "      <td>M</td>\n",
       "      <td>157</td>\n",
       "      <td>76</td>\n",
       "    </tr>\n",
       "    <tr>\n",
       "      <th>3</th>\n",
       "      <td>Carol</td>\n",
       "      <td>43</td>\n",
       "      <td>F</td>\n",
       "      <td>164</td>\n",
       "      <td>59</td>\n",
       "    </tr>\n",
       "    <tr>\n",
       "      <th>4</th>\n",
       "      <td>Dave</td>\n",
       "      <td>24</td>\n",
       "      <td>M</td>\n",
       "      <td>190</td>\n",
       "      <td>68</td>\n",
       "    </tr>\n",
       "    <tr>\n",
       "      <th>5</th>\n",
       "      <td>Eve</td>\n",
       "      <td>33</td>\n",
       "      <td>F</td>\n",
       "      <td>165</td>\n",
       "      <td>60</td>\n",
       "    </tr>\n",
       "    <tr>\n",
       "      <th>6</th>\n",
       "      <td>Francis</td>\n",
       "      <td>42</td>\n",
       "      <td>M</td>\n",
       "      <td>181</td>\n",
       "      <td>89</td>\n",
       "    </tr>\n",
       "    <tr>\n",
       "      <th>7</th>\n",
       "      <td>Grace</td>\n",
       "      <td>57</td>\n",
       "      <td>F</td>\n",
       "      <td>176</td>\n",
       "      <td>70</td>\n",
       "    </tr>\n",
       "    <tr>\n",
       "      <th>8</th>\n",
       "      <td>Hans</td>\n",
       "      <td>57</td>\n",
       "      <td>M</td>\n",
       "      <td>197</td>\n",
       "      <td>90</td>\n",
       "    </tr>\n",
       "    <tr>\n",
       "      <th>9</th>\n",
       "      <td>Isabella</td>\n",
       "      <td>36</td>\n",
       "      <td>F</td>\n",
       "      <td>170</td>\n",
       "      <td>67</td>\n",
       "    </tr>\n",
       "    <tr>\n",
       "      <th>10</th>\n",
       "      <td>Jason</td>\n",
       "      <td>13</td>\n",
       "      <td>M</td>\n",
       "      <td>144</td>\n",
       "      <td>38</td>\n",
       "    </tr>\n",
       "    <tr>\n",
       "      <th>11</th>\n",
       "      <td>Kate</td>\n",
       "      <td>53</td>\n",
       "      <td>F</td>\n",
       "      <td>164</td>\n",
       "      <td>68</td>\n",
       "    </tr>\n",
       "    <tr>\n",
       "      <th>12</th>\n",
       "      <td>Louis</td>\n",
       "      <td>39</td>\n",
       "      <td>M</td>\n",
       "      <td>175</td>\n",
       "      <td>59</td>\n",
       "    </tr>\n",
       "  </tbody>\n",
       "</table>\n",
       "</div>"
      ],
      "text/plain": [
       "        name  age gender  height(cm)  weight(kg)\n",
       "1      Alice   24      F         168          53\n",
       "2        Bob   38      M         157          76\n",
       "3      Carol   43      F         164          59\n",
       "4       Dave   24      M         190          68\n",
       "5        Eve   33      F         165          60\n",
       "6    Francis   42      M         181          89\n",
       "7      Grace   57      F         176          70\n",
       "8       Hans   57      M         197          90\n",
       "9   Isabella   36      F         170          67\n",
       "10     Jason   13      M         144          38\n",
       "11      Kate   53      F         164          68\n",
       "12     Louis   39      M         175          59"
      ]
     },
     "metadata": {},
     "output_type": "display_data"
    }
   ],
   "source": [
    "# TODO\n",
    "df=pd.DataFrame(data,index=range(1,13))\n",
    "display(df)"
   ]
  },
  {
   "cell_type": "markdown",
   "metadata": {},
   "source": [
    "### 2.2 根据身高和体重计算BMI，并添加到最后一列，列名为`BMI`"
   ]
  },
  {
   "cell_type": "markdown",
   "metadata": {},
   "source": [
    "计算BMI的公式如下\n",
    "$$\n",
    "BMI = \\dfrac{weight}{height^2}\n",
    "$$\n",
    "其中weight和height的单位分别为kg和m"
   ]
  },
  {
   "cell_type": "code",
   "execution_count": 13,
   "metadata": {},
   "outputs": [
    {
     "data": {
      "text/html": [
       "<div>\n",
       "<style scoped>\n",
       "    .dataframe tbody tr th:only-of-type {\n",
       "        vertical-align: middle;\n",
       "    }\n",
       "\n",
       "    .dataframe tbody tr th {\n",
       "        vertical-align: top;\n",
       "    }\n",
       "\n",
       "    .dataframe thead th {\n",
       "        text-align: right;\n",
       "    }\n",
       "</style>\n",
       "<table border=\"1\" class=\"dataframe\">\n",
       "  <thead>\n",
       "    <tr style=\"text-align: right;\">\n",
       "      <th></th>\n",
       "      <th>name</th>\n",
       "      <th>age</th>\n",
       "      <th>gender</th>\n",
       "      <th>height(cm)</th>\n",
       "      <th>weight(kg)</th>\n",
       "      <th>BMI</th>\n",
       "    </tr>\n",
       "  </thead>\n",
       "  <tbody>\n",
       "    <tr>\n",
       "      <th>1</th>\n",
       "      <td>Alice</td>\n",
       "      <td>24</td>\n",
       "      <td>F</td>\n",
       "      <td>168</td>\n",
       "      <td>53</td>\n",
       "      <td>18.778345</td>\n",
       "    </tr>\n",
       "    <tr>\n",
       "      <th>2</th>\n",
       "      <td>Bob</td>\n",
       "      <td>38</td>\n",
       "      <td>M</td>\n",
       "      <td>157</td>\n",
       "      <td>76</td>\n",
       "      <td>30.832894</td>\n",
       "    </tr>\n",
       "    <tr>\n",
       "      <th>3</th>\n",
       "      <td>Carol</td>\n",
       "      <td>43</td>\n",
       "      <td>F</td>\n",
       "      <td>164</td>\n",
       "      <td>59</td>\n",
       "      <td>21.936347</td>\n",
       "    </tr>\n",
       "    <tr>\n",
       "      <th>4</th>\n",
       "      <td>Dave</td>\n",
       "      <td>24</td>\n",
       "      <td>M</td>\n",
       "      <td>190</td>\n",
       "      <td>68</td>\n",
       "      <td>18.836565</td>\n",
       "    </tr>\n",
       "    <tr>\n",
       "      <th>5</th>\n",
       "      <td>Eve</td>\n",
       "      <td>33</td>\n",
       "      <td>F</td>\n",
       "      <td>165</td>\n",
       "      <td>60</td>\n",
       "      <td>22.038567</td>\n",
       "    </tr>\n",
       "    <tr>\n",
       "      <th>6</th>\n",
       "      <td>Francis</td>\n",
       "      <td>42</td>\n",
       "      <td>M</td>\n",
       "      <td>181</td>\n",
       "      <td>89</td>\n",
       "      <td>27.166448</td>\n",
       "    </tr>\n",
       "    <tr>\n",
       "      <th>7</th>\n",
       "      <td>Grace</td>\n",
       "      <td>57</td>\n",
       "      <td>F</td>\n",
       "      <td>176</td>\n",
       "      <td>70</td>\n",
       "      <td>22.598140</td>\n",
       "    </tr>\n",
       "    <tr>\n",
       "      <th>8</th>\n",
       "      <td>Hans</td>\n",
       "      <td>57</td>\n",
       "      <td>M</td>\n",
       "      <td>197</td>\n",
       "      <td>90</td>\n",
       "      <td>23.190497</td>\n",
       "    </tr>\n",
       "    <tr>\n",
       "      <th>9</th>\n",
       "      <td>Isabella</td>\n",
       "      <td>36</td>\n",
       "      <td>F</td>\n",
       "      <td>170</td>\n",
       "      <td>67</td>\n",
       "      <td>23.183391</td>\n",
       "    </tr>\n",
       "    <tr>\n",
       "      <th>10</th>\n",
       "      <td>Jason</td>\n",
       "      <td>13</td>\n",
       "      <td>M</td>\n",
       "      <td>144</td>\n",
       "      <td>38</td>\n",
       "      <td>18.325617</td>\n",
       "    </tr>\n",
       "    <tr>\n",
       "      <th>11</th>\n",
       "      <td>Kate</td>\n",
       "      <td>53</td>\n",
       "      <td>F</td>\n",
       "      <td>164</td>\n",
       "      <td>68</td>\n",
       "      <td>25.282570</td>\n",
       "    </tr>\n",
       "    <tr>\n",
       "      <th>12</th>\n",
       "      <td>Louis</td>\n",
       "      <td>39</td>\n",
       "      <td>M</td>\n",
       "      <td>175</td>\n",
       "      <td>59</td>\n",
       "      <td>19.265306</td>\n",
       "    </tr>\n",
       "  </tbody>\n",
       "</table>\n",
       "</div>"
      ],
      "text/plain": [
       "        name  age gender  height(cm)  weight(kg)        BMI\n",
       "1      Alice   24      F         168          53  18.778345\n",
       "2        Bob   38      M         157          76  30.832894\n",
       "3      Carol   43      F         164          59  21.936347\n",
       "4       Dave   24      M         190          68  18.836565\n",
       "5        Eve   33      F         165          60  22.038567\n",
       "6    Francis   42      M         181          89  27.166448\n",
       "7      Grace   57      F         176          70  22.598140\n",
       "8       Hans   57      M         197          90  23.190497\n",
       "9   Isabella   36      F         170          67  23.183391\n",
       "10     Jason   13      M         144          38  18.325617\n",
       "11      Kate   53      F         164          68  25.282570\n",
       "12     Louis   39      M         175          59  19.265306"
      ]
     },
     "metadata": {},
     "output_type": "display_data"
    }
   ],
   "source": [
    "# TODO\n",
    "df[\"BMI\"]=df['weight(kg)']/(df['height(cm)']/100)**2\n",
    "display(df)"
   ]
  },
  {
   "cell_type": "markdown",
   "metadata": {},
   "source": [
    "### 2.3 将表按照年龄（age）升序排列"
   ]
  },
  {
   "cell_type": "code",
   "execution_count": 14,
   "metadata": {},
   "outputs": [
    {
     "data": {
      "text/html": [
       "<div>\n",
       "<style scoped>\n",
       "    .dataframe tbody tr th:only-of-type {\n",
       "        vertical-align: middle;\n",
       "    }\n",
       "\n",
       "    .dataframe tbody tr th {\n",
       "        vertical-align: top;\n",
       "    }\n",
       "\n",
       "    .dataframe thead th {\n",
       "        text-align: right;\n",
       "    }\n",
       "</style>\n",
       "<table border=\"1\" class=\"dataframe\">\n",
       "  <thead>\n",
       "    <tr style=\"text-align: right;\">\n",
       "      <th></th>\n",
       "      <th>name</th>\n",
       "      <th>age</th>\n",
       "      <th>gender</th>\n",
       "      <th>height(cm)</th>\n",
       "      <th>weight(kg)</th>\n",
       "      <th>BMI</th>\n",
       "    </tr>\n",
       "  </thead>\n",
       "  <tbody>\n",
       "    <tr>\n",
       "      <th>10</th>\n",
       "      <td>Jason</td>\n",
       "      <td>13</td>\n",
       "      <td>M</td>\n",
       "      <td>144</td>\n",
       "      <td>38</td>\n",
       "      <td>18.325617</td>\n",
       "    </tr>\n",
       "    <tr>\n",
       "      <th>1</th>\n",
       "      <td>Alice</td>\n",
       "      <td>24</td>\n",
       "      <td>F</td>\n",
       "      <td>168</td>\n",
       "      <td>53</td>\n",
       "      <td>18.778345</td>\n",
       "    </tr>\n",
       "    <tr>\n",
       "      <th>4</th>\n",
       "      <td>Dave</td>\n",
       "      <td>24</td>\n",
       "      <td>M</td>\n",
       "      <td>190</td>\n",
       "      <td>68</td>\n",
       "      <td>18.836565</td>\n",
       "    </tr>\n",
       "    <tr>\n",
       "      <th>5</th>\n",
       "      <td>Eve</td>\n",
       "      <td>33</td>\n",
       "      <td>F</td>\n",
       "      <td>165</td>\n",
       "      <td>60</td>\n",
       "      <td>22.038567</td>\n",
       "    </tr>\n",
       "    <tr>\n",
       "      <th>9</th>\n",
       "      <td>Isabella</td>\n",
       "      <td>36</td>\n",
       "      <td>F</td>\n",
       "      <td>170</td>\n",
       "      <td>67</td>\n",
       "      <td>23.183391</td>\n",
       "    </tr>\n",
       "    <tr>\n",
       "      <th>2</th>\n",
       "      <td>Bob</td>\n",
       "      <td>38</td>\n",
       "      <td>M</td>\n",
       "      <td>157</td>\n",
       "      <td>76</td>\n",
       "      <td>30.832894</td>\n",
       "    </tr>\n",
       "    <tr>\n",
       "      <th>12</th>\n",
       "      <td>Louis</td>\n",
       "      <td>39</td>\n",
       "      <td>M</td>\n",
       "      <td>175</td>\n",
       "      <td>59</td>\n",
       "      <td>19.265306</td>\n",
       "    </tr>\n",
       "    <tr>\n",
       "      <th>6</th>\n",
       "      <td>Francis</td>\n",
       "      <td>42</td>\n",
       "      <td>M</td>\n",
       "      <td>181</td>\n",
       "      <td>89</td>\n",
       "      <td>27.166448</td>\n",
       "    </tr>\n",
       "    <tr>\n",
       "      <th>3</th>\n",
       "      <td>Carol</td>\n",
       "      <td>43</td>\n",
       "      <td>F</td>\n",
       "      <td>164</td>\n",
       "      <td>59</td>\n",
       "      <td>21.936347</td>\n",
       "    </tr>\n",
       "    <tr>\n",
       "      <th>11</th>\n",
       "      <td>Kate</td>\n",
       "      <td>53</td>\n",
       "      <td>F</td>\n",
       "      <td>164</td>\n",
       "      <td>68</td>\n",
       "      <td>25.282570</td>\n",
       "    </tr>\n",
       "    <tr>\n",
       "      <th>7</th>\n",
       "      <td>Grace</td>\n",
       "      <td>57</td>\n",
       "      <td>F</td>\n",
       "      <td>176</td>\n",
       "      <td>70</td>\n",
       "      <td>22.598140</td>\n",
       "    </tr>\n",
       "    <tr>\n",
       "      <th>8</th>\n",
       "      <td>Hans</td>\n",
       "      <td>57</td>\n",
       "      <td>M</td>\n",
       "      <td>197</td>\n",
       "      <td>90</td>\n",
       "      <td>23.190497</td>\n",
       "    </tr>\n",
       "  </tbody>\n",
       "</table>\n",
       "</div>"
      ],
      "text/plain": [
       "        name  age gender  height(cm)  weight(kg)        BMI\n",
       "10     Jason   13      M         144          38  18.325617\n",
       "1      Alice   24      F         168          53  18.778345\n",
       "4       Dave   24      M         190          68  18.836565\n",
       "5        Eve   33      F         165          60  22.038567\n",
       "9   Isabella   36      F         170          67  23.183391\n",
       "2        Bob   38      M         157          76  30.832894\n",
       "12     Louis   39      M         175          59  19.265306\n",
       "6    Francis   42      M         181          89  27.166448\n",
       "3      Carol   43      F         164          59  21.936347\n",
       "11      Kate   53      F         164          68  25.282570\n",
       "7      Grace   57      F         176          70  22.598140\n",
       "8       Hans   57      M         197          90  23.190497"
      ]
     },
     "metadata": {},
     "output_type": "display_data"
    }
   ],
   "source": [
    "# TODO\n",
    "df=df.sort_values(by='age')\n",
    "display(df)"
   ]
  },
  {
   "cell_type": "markdown",
   "metadata": {},
   "source": [
    "### 2.4 统计两种性别年龄、身高、体重、BMI的平均数，结果存储在变量`avg_df`中"
   ]
  },
  {
   "cell_type": "code",
   "execution_count": 15,
   "metadata": {},
   "outputs": [
    {
     "data": {
      "text/html": [
       "<div>\n",
       "<style scoped>\n",
       "    .dataframe tbody tr th:only-of-type {\n",
       "        vertical-align: middle;\n",
       "    }\n",
       "\n",
       "    .dataframe tbody tr th {\n",
       "        vertical-align: top;\n",
       "    }\n",
       "\n",
       "    .dataframe thead th {\n",
       "        text-align: right;\n",
       "    }\n",
       "</style>\n",
       "<table border=\"1\" class=\"dataframe\">\n",
       "  <thead>\n",
       "    <tr style=\"text-align: right;\">\n",
       "      <th></th>\n",
       "      <th>age</th>\n",
       "      <th>height(cm)</th>\n",
       "      <th>weight(kg)</th>\n",
       "      <th>BMI</th>\n",
       "    </tr>\n",
       "    <tr>\n",
       "      <th>gender</th>\n",
       "      <th></th>\n",
       "      <th></th>\n",
       "      <th></th>\n",
       "      <th></th>\n",
       "    </tr>\n",
       "  </thead>\n",
       "  <tbody>\n",
       "    <tr>\n",
       "      <th>F</th>\n",
       "      <td>41.0</td>\n",
       "      <td>167.833333</td>\n",
       "      <td>62.833333</td>\n",
       "      <td>22.302893</td>\n",
       "    </tr>\n",
       "    <tr>\n",
       "      <th>M</th>\n",
       "      <td>35.5</td>\n",
       "      <td>174.000000</td>\n",
       "      <td>70.000000</td>\n",
       "      <td>22.936221</td>\n",
       "    </tr>\n",
       "  </tbody>\n",
       "</table>\n",
       "</div>"
      ],
      "text/plain": [
       "         age  height(cm)  weight(kg)        BMI\n",
       "gender                                         \n",
       "F       41.0  167.833333   62.833333  22.302893\n",
       "M       35.5  174.000000   70.000000  22.936221"
      ]
     },
     "metadata": {},
     "output_type": "display_data"
    }
   ],
   "source": [
    "# TODO\n",
    "avg_df = df.groupby('gender').agg({\n",
    "    'age': 'mean',\n",
    "    'height(cm)': 'mean',\n",
    "    'weight(kg)': 'mean',\n",
    "    'BMI': 'mean'\n",
    "})\n",
    "display(avg_df)"
   ]
  },
  {
   "cell_type": "markdown",
   "metadata": {},
   "source": [
    "### 2.5 将年龄划分为`'<=24'`、`'24-48'`、`'>48'`三个部分，并在`'age'`的后一列添加`'age_range'`列，表明年龄的所属范围，具体格式见参考输出"
   ]
  },
  {
   "cell_type": "code",
   "execution_count": 16,
   "metadata": {},
   "outputs": [
    {
     "data": {
      "text/html": [
       "<div>\n",
       "<style scoped>\n",
       "    .dataframe tbody tr th:only-of-type {\n",
       "        vertical-align: middle;\n",
       "    }\n",
       "\n",
       "    .dataframe tbody tr th {\n",
       "        vertical-align: top;\n",
       "    }\n",
       "\n",
       "    .dataframe thead th {\n",
       "        text-align: right;\n",
       "    }\n",
       "</style>\n",
       "<table border=\"1\" class=\"dataframe\">\n",
       "  <thead>\n",
       "    <tr style=\"text-align: right;\">\n",
       "      <th></th>\n",
       "      <th>name</th>\n",
       "      <th>age</th>\n",
       "      <th>age_range</th>\n",
       "      <th>gender</th>\n",
       "      <th>height(cm)</th>\n",
       "      <th>weight(kg)</th>\n",
       "      <th>BMI</th>\n",
       "    </tr>\n",
       "  </thead>\n",
       "  <tbody>\n",
       "    <tr>\n",
       "      <th>10</th>\n",
       "      <td>Jason</td>\n",
       "      <td>13</td>\n",
       "      <td>&lt;=24</td>\n",
       "      <td>M</td>\n",
       "      <td>144</td>\n",
       "      <td>38</td>\n",
       "      <td>18.325617</td>\n",
       "    </tr>\n",
       "    <tr>\n",
       "      <th>1</th>\n",
       "      <td>Alice</td>\n",
       "      <td>24</td>\n",
       "      <td>&lt;=24</td>\n",
       "      <td>F</td>\n",
       "      <td>168</td>\n",
       "      <td>53</td>\n",
       "      <td>18.778345</td>\n",
       "    </tr>\n",
       "    <tr>\n",
       "      <th>4</th>\n",
       "      <td>Dave</td>\n",
       "      <td>24</td>\n",
       "      <td>&lt;=24</td>\n",
       "      <td>M</td>\n",
       "      <td>190</td>\n",
       "      <td>68</td>\n",
       "      <td>18.836565</td>\n",
       "    </tr>\n",
       "    <tr>\n",
       "      <th>5</th>\n",
       "      <td>Eve</td>\n",
       "      <td>33</td>\n",
       "      <td>24-48</td>\n",
       "      <td>F</td>\n",
       "      <td>165</td>\n",
       "      <td>60</td>\n",
       "      <td>22.038567</td>\n",
       "    </tr>\n",
       "    <tr>\n",
       "      <th>9</th>\n",
       "      <td>Isabella</td>\n",
       "      <td>36</td>\n",
       "      <td>24-48</td>\n",
       "      <td>F</td>\n",
       "      <td>170</td>\n",
       "      <td>67</td>\n",
       "      <td>23.183391</td>\n",
       "    </tr>\n",
       "    <tr>\n",
       "      <th>2</th>\n",
       "      <td>Bob</td>\n",
       "      <td>38</td>\n",
       "      <td>24-48</td>\n",
       "      <td>M</td>\n",
       "      <td>157</td>\n",
       "      <td>76</td>\n",
       "      <td>30.832894</td>\n",
       "    </tr>\n",
       "    <tr>\n",
       "      <th>12</th>\n",
       "      <td>Louis</td>\n",
       "      <td>39</td>\n",
       "      <td>24-48</td>\n",
       "      <td>M</td>\n",
       "      <td>175</td>\n",
       "      <td>59</td>\n",
       "      <td>19.265306</td>\n",
       "    </tr>\n",
       "    <tr>\n",
       "      <th>6</th>\n",
       "      <td>Francis</td>\n",
       "      <td>42</td>\n",
       "      <td>24-48</td>\n",
       "      <td>M</td>\n",
       "      <td>181</td>\n",
       "      <td>89</td>\n",
       "      <td>27.166448</td>\n",
       "    </tr>\n",
       "    <tr>\n",
       "      <th>3</th>\n",
       "      <td>Carol</td>\n",
       "      <td>43</td>\n",
       "      <td>24-48</td>\n",
       "      <td>F</td>\n",
       "      <td>164</td>\n",
       "      <td>59</td>\n",
       "      <td>21.936347</td>\n",
       "    </tr>\n",
       "    <tr>\n",
       "      <th>11</th>\n",
       "      <td>Kate</td>\n",
       "      <td>53</td>\n",
       "      <td>&gt;48</td>\n",
       "      <td>F</td>\n",
       "      <td>164</td>\n",
       "      <td>68</td>\n",
       "      <td>25.282570</td>\n",
       "    </tr>\n",
       "    <tr>\n",
       "      <th>7</th>\n",
       "      <td>Grace</td>\n",
       "      <td>57</td>\n",
       "      <td>&gt;48</td>\n",
       "      <td>F</td>\n",
       "      <td>176</td>\n",
       "      <td>70</td>\n",
       "      <td>22.598140</td>\n",
       "    </tr>\n",
       "    <tr>\n",
       "      <th>8</th>\n",
       "      <td>Hans</td>\n",
       "      <td>57</td>\n",
       "      <td>&gt;48</td>\n",
       "      <td>M</td>\n",
       "      <td>197</td>\n",
       "      <td>90</td>\n",
       "      <td>23.190497</td>\n",
       "    </tr>\n",
       "  </tbody>\n",
       "</table>\n",
       "</div>"
      ],
      "text/plain": [
       "        name  age age_range gender  height(cm)  weight(kg)        BMI\n",
       "10     Jason   13      <=24      M         144          38  18.325617\n",
       "1      Alice   24      <=24      F         168          53  18.778345\n",
       "4       Dave   24      <=24      M         190          68  18.836565\n",
       "5        Eve   33     24-48      F         165          60  22.038567\n",
       "9   Isabella   36     24-48      F         170          67  23.183391\n",
       "2        Bob   38     24-48      M         157          76  30.832894\n",
       "12     Louis   39     24-48      M         175          59  19.265306\n",
       "6    Francis   42     24-48      M         181          89  27.166448\n",
       "3      Carol   43     24-48      F         164          59  21.936347\n",
       "11      Kate   53       >48      F         164          68  25.282570\n",
       "7      Grace   57       >48      F         176          70  22.598140\n",
       "8       Hans   57       >48      M         197          90  23.190497"
      ]
     },
     "metadata": {},
     "output_type": "display_data"
    }
   ],
   "source": [
    "# TODO\n",
    "age_range= pd.cut(df['age'], bins=[0, 24, 48, float('inf')], labels=['<=24', '24-48', '>48'], right=True)\n",
    "df.insert(2, 'age_range', age_range)\n",
    "display(df)"
   ]
  },
  {
   "cell_type": "markdown",
   "metadata": {},
   "source": [
    "## 三、表数据处理与可视化"
   ]
  },
  {
   "cell_type": "markdown",
   "metadata": {},
   "source": [
    "本部分我们将使用`pandas`和`matplotlib`对真实数据进行简单处理与分析，数据内容为Bilibili 《工作细胞》评论区内容，数据来自[Kaggle](https://www.kaggle.com/datasets/sherrytp/bilibili-cells-at-work)"
   ]
  },
  {
   "cell_type": "code",
   "execution_count": 17,
   "metadata": {},
   "outputs": [],
   "source": [
    "import pandas as pd\n",
    "import matplotlib.pyplot as plt"
   ]
  },
  {
   "cell_type": "markdown",
   "metadata": {},
   "source": [
    "### 3.1 使用`read_csv`读入`bilibili_gongzuoxibao.csv`数据，使用`shape`和`info()`查看数据基本信息，并使用`head`显示数据前十行"
   ]
  },
  {
   "cell_type": "code",
   "execution_count": 18,
   "metadata": {},
   "outputs": [
    {
     "name": "stdout",
     "output_type": "stream",
     "text": [
      "(19063, 10)\n",
      "<class 'pandas.core.frame.DataFrame'>\n",
      "RangeIndex: 19063 entries, 0 to 19062\n",
      "Data columns (total 10 columns):\n",
      " #   Column         Non-Null Count  Dtype \n",
      "---  ------         --------------  ----- \n",
      " 0   author         19063 non-null  object\n",
      " 1   score          19063 non-null  int64 \n",
      " 2   disliked       19063 non-null  int64 \n",
      " 3   likes          19063 non-null  int64 \n",
      " 4   liked          19063 non-null  int64 \n",
      " 5   ctime          19063 non-null  int64 \n",
      " 6   content        19063 non-null  object\n",
      " 7   last_ep_index  19063 non-null  object\n",
      " 8   cursor         19063 non-null  int64 \n",
      " 9   date           19063 non-null  object\n",
      "dtypes: int64(6), object(4)\n",
      "memory usage: 1.5+ MB\n"
     ]
    },
    {
     "data": {
      "text/html": [
       "<div>\n",
       "<style scoped>\n",
       "    .dataframe tbody tr th:only-of-type {\n",
       "        vertical-align: middle;\n",
       "    }\n",
       "\n",
       "    .dataframe tbody tr th {\n",
       "        vertical-align: top;\n",
       "    }\n",
       "\n",
       "    .dataframe thead th {\n",
       "        text-align: right;\n",
       "    }\n",
       "</style>\n",
       "<table border=\"1\" class=\"dataframe\">\n",
       "  <thead>\n",
       "    <tr style=\"text-align: right;\">\n",
       "      <th></th>\n",
       "      <th>author</th>\n",
       "      <th>score</th>\n",
       "      <th>disliked</th>\n",
       "      <th>likes</th>\n",
       "      <th>liked</th>\n",
       "      <th>ctime</th>\n",
       "      <th>content</th>\n",
       "      <th>last_ep_index</th>\n",
       "      <th>cursor</th>\n",
       "      <th>date</th>\n",
       "    </tr>\n",
       "  </thead>\n",
       "  <tbody>\n",
       "    <tr>\n",
       "      <th>0</th>\n",
       "      <td>緖山まひろ</td>\n",
       "      <td>10</td>\n",
       "      <td>0</td>\n",
       "      <td>9981</td>\n",
       "      <td>0</td>\n",
       "      <td>1530982477</td>\n",
       "      <td>我有个想法，动物体内的细胞会不会是兽耳呢d(ŐдŐ๑)</td>\n",
       "      <td>0</td>\n",
       "      <td>77395314810369</td>\n",
       "      <td>2018-07-07 16:54:37</td>\n",
       "    </tr>\n",
       "    <tr>\n",
       "      <th>1</th>\n",
       "      <td>onlylove丶亚丝娜</td>\n",
       "      <td>10</td>\n",
       "      <td>0</td>\n",
       "      <td>1</td>\n",
       "      <td>0</td>\n",
       "      <td>1557139155</td>\n",
       "      <td>题材新颖</td>\n",
       "      <td>0</td>\n",
       "      <td>77395314810369</td>\n",
       "      <td>2019-05-06 10:39:15</td>\n",
       "    </tr>\n",
       "    <tr>\n",
       "      <th>2</th>\n",
       "      <td>AKAHANE_铃木羽</td>\n",
       "      <td>10</td>\n",
       "      <td>0</td>\n",
       "      <td>3</td>\n",
       "      <td>0</td>\n",
       "      <td>1556947242</td>\n",
       "      <td>坐等第二季！！表白白细胞∠( ᐛ 」∠)＿</td>\n",
       "      <td>0</td>\n",
       "      <td>77395314810369</td>\n",
       "      <td>2019-05-04 05:20:42</td>\n",
       "    </tr>\n",
       "    <tr>\n",
       "      <th>3</th>\n",
       "      <td>妖怪退散</td>\n",
       "      <td>10</td>\n",
       "      <td>0</td>\n",
       "      <td>0</td>\n",
       "      <td>0</td>\n",
       "      <td>1557182714</td>\n",
       "      <td>好看，推荐</td>\n",
       "      <td>0</td>\n",
       "      <td>77395314810369</td>\n",
       "      <td>2019-05-06 22:45:14</td>\n",
       "    </tr>\n",
       "    <tr>\n",
       "      <th>4</th>\n",
       "      <td>受虎大王</td>\n",
       "      <td>10</td>\n",
       "      <td>0</td>\n",
       "      <td>0</td>\n",
       "      <td>0</td>\n",
       "      <td>1557118709</td>\n",
       "      <td>涨知识</td>\n",
       "      <td>0</td>\n",
       "      <td>77395314810369</td>\n",
       "      <td>2019-05-06 04:58:29</td>\n",
       "    </tr>\n",
       "    <tr>\n",
       "      <th>5</th>\n",
       "      <td>镰刀灬锤子</td>\n",
       "      <td>10</td>\n",
       "      <td>0</td>\n",
       "      <td>2</td>\n",
       "      <td>0</td>\n",
       "      <td>1533402108</td>\n",
       "      <td>以B站的标准，工作细胞完全是9.9分啊，为什么才9.7啊？是有孤儿故意拉低分吗？</td>\n",
       "      <td>0</td>\n",
       "      <td>77395314810369</td>\n",
       "      <td>2018-08-04 17:01:48</td>\n",
       "    </tr>\n",
       "    <tr>\n",
       "      <th>6</th>\n",
       "      <td>杳然迹丶</td>\n",
       "      <td>10</td>\n",
       "      <td>0</td>\n",
       "      <td>0</td>\n",
       "      <td>0</td>\n",
       "      <td>1557076185</td>\n",
       "      <td>真滴棒</td>\n",
       "      <td>0</td>\n",
       "      <td>77395314810369</td>\n",
       "      <td>2019-05-05 17:09:45</td>\n",
       "    </tr>\n",
       "    <tr>\n",
       "      <th>7</th>\n",
       "      <td>我还是周一到周六</td>\n",
       "      <td>10</td>\n",
       "      <td>0</td>\n",
       "      <td>0</td>\n",
       "      <td>0</td>\n",
       "      <td>1557069219</td>\n",
       "      <td>真的太可爱了呜呜呜，声优表惊艳到爆炸！</td>\n",
       "      <td>0</td>\n",
       "      <td>77395314810369</td>\n",
       "      <td>2019-05-05 15:13:39</td>\n",
       "    </tr>\n",
       "    <tr>\n",
       "      <th>8</th>\n",
       "      <td>烦尘羡我</td>\n",
       "      <td>10</td>\n",
       "      <td>0</td>\n",
       "      <td>1</td>\n",
       "      <td>0</td>\n",
       "      <td>1556986422</td>\n",
       "      <td>当时为了这个番剧第一次充大会员～</td>\n",
       "      <td>0</td>\n",
       "      <td>77395314810369</td>\n",
       "      <td>2019-05-04 16:13:42</td>\n",
       "    </tr>\n",
       "    <tr>\n",
       "      <th>9</th>\n",
       "      <td>我是锡旺</td>\n",
       "      <td>10</td>\n",
       "      <td>0</td>\n",
       "      <td>1</td>\n",
       "      <td>0</td>\n",
       "      <td>1556971773</td>\n",
       "      <td>虽然番剧涉及的生物知识不是完全正确，但是很好看，也发人深省。</td>\n",
       "      <td>0</td>\n",
       "      <td>77395314810369</td>\n",
       "      <td>2019-05-04 12:09:33</td>\n",
       "    </tr>\n",
       "  </tbody>\n",
       "</table>\n",
       "</div>"
      ],
      "text/plain": [
       "         author  score  disliked  likes  liked       ctime  \\\n",
       "0         緖山まひろ     10         0   9981      0  1530982477   \n",
       "1  onlylove丶亚丝娜     10         0      1      0  1557139155   \n",
       "2   AKAHANE_铃木羽     10         0      3      0  1556947242   \n",
       "3          妖怪退散     10         0      0      0  1557182714   \n",
       "4          受虎大王     10         0      0      0  1557118709   \n",
       "5         镰刀灬锤子     10         0      2      0  1533402108   \n",
       "6          杳然迹丶     10         0      0      0  1557076185   \n",
       "7      我还是周一到周六     10         0      0      0  1557069219   \n",
       "8          烦尘羡我     10         0      1      0  1556986422   \n",
       "9          我是锡旺     10         0      1      0  1556971773   \n",
       "\n",
       "                                    content last_ep_index          cursor  \\\n",
       "0               我有个想法，动物体内的细胞会不会是兽耳呢d(ŐдŐ๑)             0  77395314810369   \n",
       "1                                      题材新颖             0  77395314810369   \n",
       "2                     坐等第二季！！表白白细胞∠( ᐛ 」∠)＿             0  77395314810369   \n",
       "3                                     好看，推荐             0  77395314810369   \n",
       "4                                       涨知识             0  77395314810369   \n",
       "5  以B站的标准，工作细胞完全是9.9分啊，为什么才9.7啊？是有孤儿故意拉低分吗？             0  77395314810369   \n",
       "6                                       真滴棒             0  77395314810369   \n",
       "7                       真的太可爱了呜呜呜，声优表惊艳到爆炸！             0  77395314810369   \n",
       "8                          当时为了这个番剧第一次充大会员～             0  77395314810369   \n",
       "9            虽然番剧涉及的生物知识不是完全正确，但是很好看，也发人深省。             0  77395314810369   \n",
       "\n",
       "                  date  \n",
       "0  2018-07-07 16:54:37  \n",
       "1  2019-05-06 10:39:15  \n",
       "2  2019-05-04 05:20:42  \n",
       "3  2019-05-06 22:45:14  \n",
       "4  2019-05-06 04:58:29  \n",
       "5  2018-08-04 17:01:48  \n",
       "6  2019-05-05 17:09:45  \n",
       "7  2019-05-05 15:13:39  \n",
       "8  2019-05-04 16:13:42  \n",
       "9  2019-05-04 12:09:33  "
      ]
     },
     "execution_count": 18,
     "metadata": {},
     "output_type": "execute_result"
    }
   ],
   "source": [
    "# TODO\n",
    "data = pd.read_csv('bilibili_gongzuoxibao.csv')\n",
    "print(data.shape)\n",
    "data.info()\n",
    "data.head(10)"
   ]
  },
  {
   "cell_type": "markdown",
   "metadata": {},
   "source": [
    "### 3.2 统计`score`列中评分归一化后的分布，并绘制柱状图，在x轴、y轴添加label，并在图上添加标题"
   ]
  },
  {
   "cell_type": "markdown",
   "metadata": {},
   "source": [
    "Hint:\n",
    "- 可以使用[`pd.Series.plot.bar`](https://pandas.pydata.org/docs/reference/api/pandas.Series.plot.bar.html#pandas.Series.plot.bar)为一个Series对象绘制柱状图\n",
    "- 可以用[`plt.xlabel`](https://matplotlib.org/stable/api/_as_gen/matplotlib.pyplot.xlabel.html#matplotlib.pyplot.xlabel)和[`plt.ylabel`](https://matplotlib.org/stable/api/_as_gen/matplotlib.pyplot.ylabel.html#matplotlib.pyplot.ylabel)给轴添加label\n",
    "- 可以用[`plt.title`](https://matplotlib.org/stable/api/_as_gen/matplotlib.pyplot.title.html)添加标题"
   ]
  },
  {
   "cell_type": "code",
   "execution_count": 19,
   "metadata": {},
   "outputs": [
    {
     "data": {
      "image/png": "[encoded data removed]",
      "text/plain": [
       "<Figure size 640x480 with 1 Axes>"
      ]
     },
     "metadata": {},
     "output_type": "display_data"
    }
   ],
   "source": [
    "# TODO\n",
    "score_distribution = data['score'].value_counts(normalize=True)\n",
    "score_distribution.plot.bar()\n",
    "plt.xlabel('Scores')\n",
    "plt.ylabel('Probability')\n",
    "plt.title('Distribution of scores')\n",
    "plt.show()"
   ]
  },
  {
   "cell_type": "markdown",
   "metadata": {},
   "source": [
    "### 3.3 从3.2的图中可以看出，数据分布是极其不均匀的，很难准确看出8分及以下的分布情况。请重新设计一种可视化方式，使得8分及以下评分情况能够更为清晰的展现。"
   ]
  },
  {
   "cell_type": "code",
   "execution_count": 20,
   "metadata": {},
   "outputs": [
    {
     "data": {
      "image/png": "[encoded data removed]",
      "text/plain": [
       "<Figure size 640x480 with 1 Axes>"
      ]
     },
     "metadata": {},
     "output_type": "display_data"
    }
   ],
   "source": [
    "# TODO\n",
    "score_count = data['score'].value_counts()\n",
    "log_count=np.log(score_count)\n",
    "normal_count=pd.Series(log_count/log_count.sum())\n",
    "normal_count.plot.bar()\n",
    "plt.xlabel('Scores')\n",
    "plt.ylabel('Probability by log')\n",
    "plt.title('Distribution of scores by log')\n",
    "plt.show()"
   ]
  },
  {
   "cell_type": "markdown",
   "metadata": {},
   "source": [
    "### 3.4 对于每一种评分，计算它所对应所有评论的长度均值与标准差并绘制柱状图"
   ]
  },
  {
   "cell_type": "code",
   "execution_count": 21,
   "metadata": {},
   "outputs": [
    {
     "data": {
      "image/png": "[encoded data removed]",
      "text/plain": [
       "<Figure size 640x480 with 1 Axes>"
      ]
     },
     "metadata": {},
     "output_type": "display_data"
    }
   ],
   "source": [
    "# TODO\n",
    "data['comment_length']=data['content'].apply(len)\n",
    "view_on_comment = data.groupby('score')['comment_length'].agg(['mean', 'std'])\n",
    "(view_on_comment.T).plot.bar()\n",
    "plt.xlabel('criterion')\n",
    "plt.ylabel('length')\n",
    "plt.title('mean and std of comment length')\n",
    "plt.show()"
   ]
  },
  {
   "cell_type": "markdown",
   "metadata": {},
   "source": [
    "### 3.5 对于每一种评分，计算它对应所有评论的长度分布情况并绘制柱状图"
   ]
  },
  {
   "cell_type": "markdown",
   "metadata": {},
   "source": [
    "评论最长长度为100，如果展示每种评分下每种长度评论的分布，就会导致柱状图有500列，并不适合数据展示；更合适的方法是划分长度区间并展示区间的分布情况，见参考输出的横坐标设置\n",
    "\n",
    "Hint:这些函数可能会对你的实现有所帮助：[`pd.cut`](https://pandas.pydata.org/docs/reference/api/pandas.cut.html#pandas-cut)、[`pd.DataFrame.groupby`](https://pandas.pydata.org/docs/reference/api/pandas.DataFrame.groupby.html#pandas.DataFrame.groupby)、[`pd.Series.groupy`](https://pandas.pydata.org/docs/reference/api/pandas.Series.groupby.html#pandas.Series.groupby)、[`pd.Series.unstack`](https://pandas.pydata.org/docs/reference/api/pandas.Series.unstack.html#pandas.Series.unstack)、[`pd.DataFrame.unstack`](https://pandas.pydata.org/docs/reference/api/pandas.DataFrame.unstack.html#pandas.DataFrame.unstack)"
   ]
  },
  {
   "cell_type": "code",
   "execution_count": 22,
   "metadata": {},
   "outputs": [
    {
     "data": {
      "image/png": "[encoded data removed]",
      "text/plain": [
       "<Figure size 1800x600 with 1 Axes>"
      ]
     },
     "metadata": {},
     "output_type": "display_data"
    }
   ],
   "source": [
    "# TODO\n",
    "data['length_interval'] = pd.cut(data['comment_length'], bins=range(0, 101, 5),right=True)\n",
    "view_on_comment2 = data.groupby('score')['length_interval'].value_counts(normalize=True)\n",
    "view_on_comment2=view_on_comment2.unstack()\n",
    "(view_on_comment2.T).plot.bar(figsize=(18,6),width=0.8)\n",
    "plt.xlabel('length of comments')\n",
    "plt.ylabel('probability')\n",
    "plt.title('Distribution of length of comments')\n",
    "plt.show()\n"
   ]
  }
 ],
 "metadata": {
  "kernelspec": {
   "display_name": "Python 3 (ipykernel)",
   "language": "python",
   "name": "python3"
  },
  "language_info": {
   "codemirror_mode": {
    "name": "ipython",
    "version": 3
   },
   "file_extension": ".py",
   "mimetype": "text/x-python",
   "name": "python",
   "nbconvert_exporter": "python",
   "pygments_lexer": "ipython3",
   "version": "3.11.5"
  }
 },
 "nbformat": 4,
 "nbformat_minor": 2
}
